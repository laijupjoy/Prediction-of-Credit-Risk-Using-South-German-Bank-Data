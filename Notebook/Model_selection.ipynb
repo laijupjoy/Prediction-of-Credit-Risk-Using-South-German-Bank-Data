{
  "cells": [
    {
      "cell_type": "code",
      "execution_count": 42,
      "id": "dec09b13",
      "metadata": {
        "id": "dec09b13"
      },
      "outputs": [],
      "source": [
        "# importing libraries needed\n",
        "import pandas as pd\n",
        "import numpy as np\n",
        "from sklearn.neighbors import KNeighborsClassifier\n",
        "from sklearn.svm import SVC\n",
        "from sklearn.model_selection import train_test_split\n",
        "from sklearn.ensemble import RandomForestClassifier\n",
        "from sklearn.metrics import accuracy_score, confusion_matrix, roc_curve, roc_auc_score\n",
        "import matplotlib.pyplot as plt\n",
        "import pickle"
      ]
    },
    {
      "cell_type": "code",
      "execution_count": 2,
      "id": "07e6266f",
      "metadata": {
        "id": "07e6266f"
      },
      "outputs": [],
      "source": [
        "df=pd.read_csv('Clean_data.csv')"
      ]
    },
    {
      "cell_type": "code",
      "execution_count": 3,
      "id": "68236d82",
      "metadata": {
        "colab": {
          "base_uri": "https://localhost:8080/"
        },
        "id": "68236d82",
        "outputId": "91ef2902-b961-49ce-f3a0-52960114787a"
      },
      "outputs": [
        {
          "output_type": "execute_result",
          "data": {
            "text/plain": [
              "Unnamed: 0                                                    0\n",
              "status                                                        0\n",
              "duration                                                      0\n",
              "amount                                                        0\n",
              "savings                                                       0\n",
              "employment_duration                                           0\n",
              "installment_rate                                              0\n",
              "present_residence                                             0\n",
              "age                                                           0\n",
              "number_credits                                                0\n",
              "credit_risk                                                   0\n",
              "credit_history_critical account/other credits elsewhere       0\n",
              "credit_history_delay in paying off in the past                0\n",
              "credit_history_existing credits paid back duly till now       0\n",
              "credit_history_no credits taken/all credits paid back duly    0\n",
              "purpose_car (new)                                             0\n",
              "purpose_car (used)                                            0\n",
              "purpose_domestic appliances                                   0\n",
              "purpose_furniture/equipment                                   0\n",
              "purpose_others                                                0\n",
              "purpose_radio/television                                      0\n",
              "purpose_repairs                                               0\n",
              "purpose_retraining                                            0\n",
              "purpose_vacation                                              0\n",
              "personal_status_sex_female : single                           0\n",
              "personal_status_sex_male : divorced/separated                 0\n",
              "personal_status_sex_male : married/widowed                    0\n",
              "property_car or other                                         0\n",
              "property_real estate                                          0\n",
              "property_unknown/no property                                  0\n",
              "telephone_yes (under customer name)                           0\n",
              "dtype: int64"
            ]
          },
          "metadata": {},
          "execution_count": 3
        }
      ],
      "source": [
        "df.isna().sum()"
      ]
    },
    {
      "cell_type": "code",
      "execution_count": 4,
      "id": "638deabf",
      "metadata": {
        "id": "638deabf"
      },
      "outputs": [],
      "source": [
        "X=df.drop(columns='credit_risk')\n",
        "Y=df['credit_risk']"
      ]
    },
    {
      "cell_type": "code",
      "source": [
        "X_train,X_test,Y_train,Y_test=train_test_split(X,Y,test_size=0.3,random_state=42)"
      ],
      "metadata": {
        "id": "HbNfS_8-cVvP"
      },
      "id": "HbNfS_8-cVvP",
      "execution_count": 6,
      "outputs": []
    },
    {
      "cell_type": "markdown",
      "id": "e765c6e8",
      "metadata": {
        "id": "e765c6e8"
      },
      "source": [
        "# KNN"
      ]
    },
    {
      "cell_type": "code",
      "execution_count": 7,
      "id": "690dbf0d",
      "metadata": {
        "colab": {
          "base_uri": "https://localhost:8080/"
        },
        "id": "690dbf0d",
        "outputId": "52ad12a9-eb5a-4168-ce75-a205d42e720d"
      },
      "outputs": [
        {
          "output_type": "execute_result",
          "data": {
            "text/plain": [
              "KNeighborsClassifier()"
            ]
          },
          "metadata": {},
          "execution_count": 7
        }
      ],
      "source": [
        "knn=KNeighborsClassifier ()\n",
        "knn.fit(X_train,Y_train)"
      ]
    },
    {
      "cell_type": "code",
      "execution_count": 8,
      "id": "dc26dd48",
      "metadata": {
        "colab": {
          "base_uri": "https://localhost:8080/"
        },
        "id": "dc26dd48",
        "outputId": "6aea1c60-ee79-4693-b72a-d57ebab3d9d5"
      },
      "outputs": [
        {
          "output_type": "execute_result",
          "data": {
            "text/plain": [
              "0.9066666666666666"
            ]
          },
          "metadata": {},
          "execution_count": 8
        }
      ],
      "source": [
        "knn.score(X_test,Y_test)"
      ]
    },
    {
      "cell_type": "code",
      "source": [
        "Y_pred_knn = knn.predict(X_test)"
      ],
      "metadata": {
        "id": "pXdf2tQAgEkp"
      },
      "id": "pXdf2tQAgEkp",
      "execution_count": 34,
      "outputs": []
    },
    {
      "cell_type": "code",
      "source": [
        "print(accuracy_score(Y_test,Y_pred_knn))"
      ],
      "metadata": {
        "colab": {
          "base_uri": "https://localhost:8080/"
        },
        "id": "CLndCWl0gPns",
        "outputId": "b057df3c-4283-4da8-8cff-615fa6fb358e"
      },
      "id": "CLndCWl0gPns",
      "execution_count": 35,
      "outputs": [
        {
          "output_type": "stream",
          "name": "stdout",
          "text": [
            "0.9066666666666666\n"
          ]
        }
      ]
    },
    {
      "cell_type": "code",
      "source": [
        "# Confusion Matrix\n",
        "conf_mat = confusion_matrix(Y_test,Y_pred_knn)\n",
        "conf_mat"
      ],
      "metadata": {
        "colab": {
          "base_uri": "https://localhost:8080/"
        },
        "id": "tWj41hkzhysX",
        "outputId": "d9d5fbd8-f6f8-4628-82b4-1ae3dd8c01ea"
      },
      "id": "tWj41hkzhysX",
      "execution_count": 36,
      "outputs": [
        {
          "output_type": "execute_result",
          "data": {
            "text/plain": [
              "array([[ 72,  20],\n",
              "       [  8, 200]])"
            ]
          },
          "metadata": {},
          "execution_count": 36
        }
      ]
    },
    {
      "cell_type": "code",
      "source": [
        "#Printing classification report for KNN claassifier\n",
        "from sklearn import metrics\n",
        "print('Classification Report_KNN','\\n',metrics.classification_report(Y_test, Y_pred_knn))"
      ],
      "metadata": {
        "colab": {
          "base_uri": "https://localhost:8080/"
        },
        "id": "MniRT7pbh4pV",
        "outputId": "141bf5fd-cb74-432a-f746-5c1f22911e15"
      },
      "id": "MniRT7pbh4pV",
      "execution_count": 37,
      "outputs": [
        {
          "output_type": "stream",
          "name": "stdout",
          "text": [
            "Classification Report_KNN \n",
            "               precision    recall  f1-score   support\n",
            "\n",
            "           0       0.90      0.78      0.84        92\n",
            "           1       0.91      0.96      0.93       208\n",
            "\n",
            "    accuracy                           0.91       300\n",
            "   macro avg       0.90      0.87      0.89       300\n",
            "weighted avg       0.91      0.91      0.90       300\n",
            "\n"
          ]
        }
      ]
    },
    {
      "cell_type": "code",
      "source": [
        "# Area Under Curve\n",
        "auc = roc_auc_score(Y_test, Y_pred_knn)\n",
        "auc"
      ],
      "metadata": {
        "colab": {
          "base_uri": "https://localhost:8080/"
        },
        "id": "LhPqcf4bib1-",
        "outputId": "820e2c10-eb39-4a75-e8ae-daba1c577621"
      },
      "id": "LhPqcf4bib1-",
      "execution_count": 38,
      "outputs": [
        {
          "output_type": "execute_result",
          "data": {
            "text/plain": [
              "0.8720735785953178"
            ]
          },
          "metadata": {},
          "execution_count": 38
        }
      ]
    },
    {
      "cell_type": "code",
      "source": [
        "fpr, tpr, thresholds = roc_curve(Y_test, Y_pred_knn)"
      ],
      "metadata": {
        "id": "ot8dQxXCisxO"
      },
      "id": "ot8dQxXCisxO",
      "execution_count": 40,
      "outputs": []
    },
    {
      "cell_type": "code",
      "source": [
        "plt.figure(figsize=(5,5))\n",
        "plt.plot(fpr, tpr, color='red', label='ROC')\n",
        "plt.plot([0, 1], [0, 1], color='darkblue', linestyle='--',label='ROC curve (area = %0.2f)' % auc)\n",
        "plt.xlabel('False Positive Rate')\n",
        "plt.ylabel('True Positive Rate')\n",
        "plt.title('Receiver Operating Characteristic (ROC) Curve for KNN')\n",
        "plt.legend()\n",
        "plt.show()"
      ],
      "metadata": {
        "colab": {
          "base_uri": "https://localhost:8080/",
          "height": 350
        },
        "id": "DHS5nMxBi2MQ",
        "outputId": "6b6c68f7-2249-4031-b370-f32a043f280d"
      },
      "id": "DHS5nMxBi2MQ",
      "execution_count": 43,
      "outputs": [
        {
          "output_type": "display_data",
          "data": {
            "image/png": "[encoded data removed]",
            "text/plain": [
              "<Figure size 360x360 with 1 Axes>"
            ]
          },
          "metadata": {
            "needs_background": "light"
          }
        }
      ]
    },
    {
      "cell_type": "markdown",
      "id": "4b694438",
      "metadata": {
        "id": "4b694438"
      },
      "source": [
        "# SVM"
      ]
    },
    {
      "cell_type": "code",
      "execution_count": 9,
      "id": "6ac48a16",
      "metadata": {
        "colab": {
          "base_uri": "https://localhost:8080/"
        },
        "id": "6ac48a16",
        "outputId": "b04665f9-89b4-4d4a-cf78-14644e970f72"
      },
      "outputs": [
        {
          "output_type": "execute_result",
          "data": {
            "text/plain": [
              "SVC()"
            ]
          },
          "metadata": {},
          "execution_count": 9
        }
      ],
      "source": [
        "svm=SVC()\n",
        "svm.fit(X_train,Y_train)"
      ]
    },
    {
      "cell_type": "code",
      "execution_count": 10,
      "id": "c3f668a9",
      "metadata": {
        "colab": {
          "base_uri": "https://localhost:8080/"
        },
        "id": "c3f668a9",
        "outputId": "b6b70134-ee76-4e8c-f0c9-4aceae900976"
      },
      "outputs": [
        {
          "output_type": "execute_result",
          "data": {
            "text/plain": [
              "0.9133333333333333"
            ]
          },
          "metadata": {},
          "execution_count": 10
        }
      ],
      "source": [
        "svm.score(X_test,Y_test)"
      ]
    },
    {
      "cell_type": "code",
      "source": [
        "Y_pred_svm = svm.predict(X_test)"
      ],
      "metadata": {
        "id": "SAVUdjtqjYz7"
      },
      "id": "SAVUdjtqjYz7",
      "execution_count": 44,
      "outputs": []
    },
    {
      "cell_type": "code",
      "source": [
        "print(accuracy_score(Y_test,Y_pred_svm))"
      ],
      "metadata": {
        "colab": {
          "base_uri": "https://localhost:8080/"
        },
        "id": "sAybW3ssjjVS",
        "outputId": "d0716e91-7d41-453e-d4ef-3d79f8086c5e"
      },
      "id": "sAybW3ssjjVS",
      "execution_count": 46,
      "outputs": [
        {
          "output_type": "stream",
          "name": "stdout",
          "text": [
            "0.9133333333333333\n"
          ]
        }
      ]
    },
    {
      "cell_type": "code",
      "source": [
        "# Confusion Matrix\n",
        "conf_mat = confusion_matrix(Y_test,Y_pred_svm)\n",
        "conf_mat"
      ],
      "metadata": {
        "colab": {
          "base_uri": "https://localhost:8080/"
        },
        "id": "cWxewjxHjo8v",
        "outputId": "97258029-7648-4bee-8945-0afbef72d393"
      },
      "id": "cWxewjxHjo8v",
      "execution_count": 47,
      "outputs": [
        {
          "output_type": "execute_result",
          "data": {
            "text/plain": [
              "array([[ 70,  22],\n",
              "       [  4, 204]])"
            ]
          },
          "metadata": {},
          "execution_count": 47
        }
      ]
    },
    {
      "cell_type": "code",
      "source": [
        "#Printing classification report for KNN claassifier\n",
        "from sklearn import metrics\n",
        "print('Classification Report_SVM','\\n',metrics.classification_report(Y_test, Y_pred_svm))"
      ],
      "metadata": {
        "colab": {
          "base_uri": "https://localhost:8080/"
        },
        "id": "tLUp5RFNjo_o",
        "outputId": "997a981f-a409-4ce8-cf00-81dbc9a3603b"
      },
      "id": "tLUp5RFNjo_o",
      "execution_count": 48,
      "outputs": [
        {
          "output_type": "stream",
          "name": "stdout",
          "text": [
            "Classification Report_SVM \n",
            "               precision    recall  f1-score   support\n",
            "\n",
            "           0       0.95      0.76      0.84        92\n",
            "           1       0.90      0.98      0.94       208\n",
            "\n",
            "    accuracy                           0.91       300\n",
            "   macro avg       0.92      0.87      0.89       300\n",
            "weighted avg       0.92      0.91      0.91       300\n",
            "\n"
          ]
        }
      ]
    },
    {
      "cell_type": "code",
      "source": [
        "# Area Under Curve\n",
        "auc = roc_auc_score(Y_test, Y_pred_svm)\n",
        "auc"
      ],
      "metadata": {
        "colab": {
          "base_uri": "https://localhost:8080/"
        },
        "id": "lchBZhAjkCLX",
        "outputId": "115f64db-391d-44cf-ac89-cd7294ab6903"
      },
      "id": "lchBZhAjkCLX",
      "execution_count": 49,
      "outputs": [
        {
          "output_type": "execute_result",
          "data": {
            "text/plain": [
              "0.8708193979933112"
            ]
          },
          "metadata": {},
          "execution_count": 49
        }
      ]
    },
    {
      "cell_type": "code",
      "source": [
        "fpr, tpr, thresholds = roc_curve(Y_test, Y_pred_svm)"
      ],
      "metadata": {
        "id": "xQMUKKNqkCOW"
      },
      "id": "xQMUKKNqkCOW",
      "execution_count": 51,
      "outputs": []
    },
    {
      "cell_type": "code",
      "source": [
        "plt.figure(figsize=(5,5))\n",
        "plt.plot(fpr, tpr, color='red', label='ROC')\n",
        "plt.plot([0, 1], [0, 1], color='darkblue', linestyle='--',label='ROC curve (area = %0.2f)' % auc)\n",
        "plt.xlabel('False Positive Rate')\n",
        "plt.ylabel('True Positive Rate')\n",
        "plt.title('Receiver Operating Characteristic (ROC) Curve for SVM')\n",
        "plt.legend()\n",
        "plt.show()"
      ],
      "metadata": {
        "colab": {
          "base_uri": "https://localhost:8080/",
          "height": 350
        },
        "id": "1_yUni2okJm8",
        "outputId": "0f3bd924-c406-4358-f177-edef5f007d34"
      },
      "id": "1_yUni2okJm8",
      "execution_count": 52,
      "outputs": [
        {
          "output_type": "display_data",
          "data": {
            "image/png": "[encoded data removed]",
            "text/plain": [
              "<Figure size 360x360 with 1 Axes>"
            ]
          },
          "metadata": {
            "needs_background": "light"
          }
        }
      ]
    },
    {
      "cell_type": "markdown",
      "source": [
        "#Logistic Regression"
      ],
      "metadata": {
        "id": "clI1OLK8oxSg"
      },
      "id": "clI1OLK8oxSg"
    },
    {
      "cell_type": "code",
      "source": [
        "from sklearn.linear_model import LogisticRegression\n",
        "log_reg = LogisticRegression()\n",
        "\n",
        "log_reg.fit(X_train,Y_train)"
      ],
      "metadata": {
        "colab": {
          "base_uri": "https://localhost:8080/"
        },
        "id": "Qsj_mJMRm1Vj",
        "outputId": "b67d3c5e-17ca-4612-8984-5c480fdcde13"
      },
      "id": "Qsj_mJMRm1Vj",
      "execution_count": 60,
      "outputs": [
        {
          "output_type": "stream",
          "name": "stderr",
          "text": [
            "/usr/local/lib/python3.7/dist-packages/sklearn/linear_model/_logistic.py:818: ConvergenceWarning: lbfgs failed to converge (status=1):\n",
            "STOP: TOTAL NO. of ITERATIONS REACHED LIMIT.\n",
            "\n",
            "Increase the number of iterations (max_iter) or scale the data as shown in:\n",
            "    https://scikit-learn.org/stable/modules/preprocessing.html\n",
            "Please also refer to the documentation for alternative solver options:\n",
            "    https://scikit-learn.org/stable/modules/linear_model.html#logistic-regression\n",
            "  extra_warning_msg=_LOGISTIC_SOLVER_CONVERGENCE_MSG,\n"
          ]
        },
        {
          "output_type": "execute_result",
          "data": {
            "text/plain": [
              "LogisticRegression()"
            ]
          },
          "metadata": {},
          "execution_count": 60
        }
      ]
    },
    {
      "cell_type": "code",
      "source": [
        "Y_pred_logistic = log_reg.predict(X_test)"
      ],
      "metadata": {
        "id": "3xFxthB4m1lC"
      },
      "id": "3xFxthB4m1lC",
      "execution_count": 61,
      "outputs": []
    },
    {
      "cell_type": "code",
      "source": [
        "accuracy_logistic = accuracy_score(Y_test,Y_pred_logistic)\n",
        "accuracy_logistic"
      ],
      "metadata": {
        "colab": {
          "base_uri": "https://localhost:8080/"
        },
        "id": "SU84RdRHm1m-",
        "outputId": "aa5c79c8-97c1-462a-f6d9-7140873dd225"
      },
      "id": "SU84RdRHm1m-",
      "execution_count": 63,
      "outputs": [
        {
          "output_type": "execute_result",
          "data": {
            "text/plain": [
              "0.88"
            ]
          },
          "metadata": {},
          "execution_count": 63
        }
      ]
    },
    {
      "cell_type": "code",
      "source": [
        "# Confusion Matrix\n",
        "conf_mat = confusion_matrix(Y_test,Y_pred_logistic)\n",
        "conf_mat"
      ],
      "metadata": {
        "colab": {
          "base_uri": "https://localhost:8080/"
        },
        "id": "9URq2K--m1pf",
        "outputId": "cb7e34b3-2cf8-4e95-87c0-42dfd0a5c7b4"
      },
      "id": "9URq2K--m1pf",
      "execution_count": 65,
      "outputs": [
        {
          "output_type": "execute_result",
          "data": {
            "text/plain": [
              "array([[ 75,  17],\n",
              "       [ 19, 189]])"
            ]
          },
          "metadata": {},
          "execution_count": 65
        }
      ]
    },
    {
      "cell_type": "code",
      "source": [
        "# Area Under Curve\n",
        "auc_logistic = roc_auc_score(Y_test, Y_pred_logistic)\n",
        "auc_logistic"
      ],
      "metadata": {
        "colab": {
          "base_uri": "https://localhost:8080/"
        },
        "id": "mmP-cL3Rm1r4",
        "outputId": "73e0ae32-c399-464f-e5ba-bf7416b372cf"
      },
      "id": "mmP-cL3Rm1r4",
      "execution_count": 68,
      "outputs": [
        {
          "output_type": "execute_result",
          "data": {
            "text/plain": [
              "0.8619356187290972"
            ]
          },
          "metadata": {},
          "execution_count": 68
        }
      ]
    },
    {
      "cell_type": "code",
      "source": [
        "# ROC\n",
        "fpr_logistic, tpr_logistic, thresholds_logistic = roc_curve(Y_test, Y_pred_logistic)"
      ],
      "metadata": {
        "id": "Jyt6gG8qm1ti"
      },
      "id": "Jyt6gG8qm1ti",
      "execution_count": 66,
      "outputs": []
    },
    {
      "cell_type": "code",
      "source": [
        "plt.figure(figsize=(5,5))\n",
        "plt.plot(fpr_logistic, tpr_logistic, color='red', label='ROC')\n",
        "plt.plot([0, 1], [0, 1], color='darkblue', linestyle='--',label='ROC curve (area = %0.2f)' % auc_logistic)\n",
        "plt.xlabel('False Positive Rate')\n",
        "plt.ylabel('True Positive Rate')\n",
        "plt.title('Receiver Operating Characteristic (ROC) Curve for Logistic Regression')\n",
        "plt.legend()\n",
        "plt.show()"
      ],
      "metadata": {
        "colab": {
          "base_uri": "https://localhost:8080/",
          "height": 350
        },
        "id": "ZXj8Juc2m1wE",
        "outputId": "25debc03-17a0-4cb5-a0eb-eedbc81dc02d"
      },
      "id": "ZXj8Juc2m1wE",
      "execution_count": 69,
      "outputs": [
        {
          "output_type": "display_data",
          "data": {
            "image/png": "[encoded data removed]",
            "text/plain": [
              "<Figure size 360x360 with 1 Axes>"
            ]
          },
          "metadata": {
            "needs_background": "light"
          }
        }
      ]
    },
    {
      "cell_type": "markdown",
      "source": [
        "# Naive Bayes"
      ],
      "metadata": {
        "id": "L2qyoWhMqCoz"
      },
      "id": "L2qyoWhMqCoz"
    },
    {
      "cell_type": "code",
      "source": [
        "from sklearn.naive_bayes import GaussianNB\n",
        "GNB = GaussianNB()"
      ],
      "metadata": {
        "id": "nWQDSB-rm10B"
      },
      "id": "nWQDSB-rm10B",
      "execution_count": 70,
      "outputs": []
    },
    {
      "cell_type": "code",
      "source": [
        "GNB.fit(X_train,Y_train)"
      ],
      "metadata": {
        "colab": {
          "base_uri": "https://localhost:8080/"
        },
        "id": "hbGmrdKuqFpU",
        "outputId": "46f8f26e-a1bb-4548-eb98-20a06f3245fc"
      },
      "id": "hbGmrdKuqFpU",
      "execution_count": 71,
      "outputs": [
        {
          "output_type": "execute_result",
          "data": {
            "text/plain": [
              "GaussianNB()"
            ]
          },
          "metadata": {},
          "execution_count": 71
        }
      ]
    },
    {
      "cell_type": "code",
      "source": [
        "Y_pred_gnb = GNB.predict(X_test)"
      ],
      "metadata": {
        "id": "sl7TyJEZqGE6"
      },
      "id": "sl7TyJEZqGE6",
      "execution_count": 75,
      "outputs": []
    },
    {
      "cell_type": "code",
      "source": [
        "print(accuracy_score(Y_test, Y_pred_gnb))"
      ],
      "metadata": {
        "colab": {
          "base_uri": "https://localhost:8080/"
        },
        "id": "gd7zIWl4qGH2",
        "outputId": "48786298-efe5-4d6c-fb9b-b063b8f0d8e3"
      },
      "id": "gd7zIWl4qGH2",
      "execution_count": 76,
      "outputs": [
        {
          "output_type": "stream",
          "name": "stdout",
          "text": [
            "0.8333333333333334\n"
          ]
        }
      ]
    },
    {
      "cell_type": "code",
      "source": [
        "# Confusion Matrix\n",
        "conf_mat = confusion_matrix(Y_test,Y_pred_gnb)\n",
        "conf_mat"
      ],
      "metadata": {
        "colab": {
          "base_uri": "https://localhost:8080/"
        },
        "id": "SdHjy0SbqGVh",
        "outputId": "86f6bbd5-2ccf-4a6d-f82d-11851645f858"
      },
      "id": "SdHjy0SbqGVh",
      "execution_count": 79,
      "outputs": [
        {
          "output_type": "execute_result",
          "data": {
            "text/plain": [
              "array([[ 66,  26],\n",
              "       [ 24, 184]])"
            ]
          },
          "metadata": {},
          "execution_count": 79
        }
      ]
    },
    {
      "cell_type": "code",
      "source": [
        "#Printing classification report for Naive Bayes claassifier\n",
        "from sklearn import metrics\n",
        "print('Classification Report_test','\\n',metrics.classification_report(Y_test, Y_pred_gnb))"
      ],
      "metadata": {
        "colab": {
          "base_uri": "https://localhost:8080/"
        },
        "id": "eQ7C9xQJqbT2",
        "outputId": "afa35909-a4cc-4672-f1a2-5bae41c58f45"
      },
      "id": "eQ7C9xQJqbT2",
      "execution_count": 80,
      "outputs": [
        {
          "output_type": "stream",
          "name": "stdout",
          "text": [
            "Classification Report_test \n",
            "               precision    recall  f1-score   support\n",
            "\n",
            "           0       0.73      0.72      0.73        92\n",
            "           1       0.88      0.88      0.88       208\n",
            "\n",
            "    accuracy                           0.83       300\n",
            "   macro avg       0.80      0.80      0.80       300\n",
            "weighted avg       0.83      0.83      0.83       300\n",
            "\n"
          ]
        }
      ]
    },
    {
      "cell_type": "code",
      "source": [
        "# Area Under Curve\n",
        "auc = roc_auc_score(Y_test, Y_pred_gnb)\n",
        "auc"
      ],
      "metadata": {
        "colab": {
          "base_uri": "https://localhost:8080/"
        },
        "id": "243yGotPqbVn",
        "outputId": "5c9111dd-2548-4bbb-ee34-78331631255c"
      },
      "id": "243yGotPqbVn",
      "execution_count": 81,
      "outputs": [
        {
          "output_type": "execute_result",
          "data": {
            "text/plain": [
              "0.8010033444816054"
            ]
          },
          "metadata": {},
          "execution_count": 81
        }
      ]
    },
    {
      "cell_type": "code",
      "source": [
        "fpr, tpr, thresholds = roc_curve(Y_test, Y_pred_gnb)"
      ],
      "metadata": {
        "id": "a1WOgRuMqm_9"
      },
      "id": "a1WOgRuMqm_9",
      "execution_count": 82,
      "outputs": []
    },
    {
      "cell_type": "code",
      "source": [
        "plt.figure(figsize=(5,5))\n",
        "plt.plot(fpr, tpr, color='red', label='ROC')\n",
        "plt.plot([0, 1], [0, 1], color='darkblue', linestyle='--',label='ROC curve (area = %0.2f)' % auc)\n",
        "plt.xlabel('False Positive Rate')\n",
        "plt.ylabel('True Positive Rate')\n",
        "plt.title('Receiver Operating Characteristic (ROC) Curve for Naive Bayes')\n",
        "plt.legend()\n",
        "plt.show()"
      ],
      "metadata": {
        "colab": {
          "base_uri": "https://localhost:8080/",
          "height": 350
        },
        "id": "Zt_hEBqVqnCw",
        "outputId": "bc17ec1b-dcb0-4258-8d48-ba27cbfe46b1"
      },
      "id": "Zt_hEBqVqnCw",
      "execution_count": 83,
      "outputs": [
        {
          "output_type": "display_data",
          "data": {
            "image/png": "[encoded data removed]",
            "text/plain": [
              "<Figure size 360x360 with 1 Axes>"
            ]
          },
          "metadata": {
            "needs_background": "light"
          }
        }
      ]
    },
    {
      "cell_type": "code",
      "source": [
        ""
      ],
      "metadata": {
        "id": "vcO-ItAcqbY2"
      },
      "id": "vcO-ItAcqbY2",
      "execution_count": null,
      "outputs": []
    },
    {
      "cell_type": "markdown",
      "id": "8a54e44e",
      "metadata": {
        "id": "8a54e44e"
      },
      "source": [
        "# Randomforest"
      ]
    },
    {
      "cell_type": "code",
      "execution_count": 12,
      "id": "38247a95",
      "metadata": {
        "colab": {
          "base_uri": "https://localhost:8080/"
        },
        "id": "38247a95",
        "outputId": "14c1d71c-a329-430c-f86d-dbbdede3d0fe"
      },
      "outputs": [
        {
          "output_type": "execute_result",
          "data": {
            "text/plain": [
              "RandomForestClassifier()"
            ]
          },
          "metadata": {},
          "execution_count": 12
        }
      ],
      "source": [
        "random= RandomForestClassifier ()\n",
        "random.fit(X_train,Y_train)"
      ]
    },
    {
      "cell_type": "code",
      "execution_count": 13,
      "id": "668d2966",
      "metadata": {
        "colab": {
          "base_uri": "https://localhost:8080/"
        },
        "id": "668d2966",
        "outputId": "cc26500f-4c99-4ef8-9926-fee5aa66c3f3"
      },
      "outputs": [
        {
          "output_type": "execute_result",
          "data": {
            "text/plain": [
              "0.9433333333333334"
            ]
          },
          "metadata": {},
          "execution_count": 13
        }
      ],
      "source": [
        "random.score(X_test,Y_test)"
      ]
    },
    {
      "cell_type": "code",
      "source": [
        "Y_pred_random = random.predict(X_test)"
      ],
      "metadata": {
        "id": "f85DayYnkXSZ"
      },
      "id": "f85DayYnkXSZ",
      "execution_count": 53,
      "outputs": []
    },
    {
      "cell_type": "code",
      "source": [
        "print(accuracy_score(Y_test,Y_pred_random))"
      ],
      "metadata": {
        "colab": {
          "base_uri": "https://localhost:8080/"
        },
        "id": "jVDMQ6eukXUL",
        "outputId": "538bc35b-d7f5-4897-a543-da089c006c97"
      },
      "id": "jVDMQ6eukXUL",
      "execution_count": 54,
      "outputs": [
        {
          "output_type": "stream",
          "name": "stdout",
          "text": [
            "0.9433333333333334\n"
          ]
        }
      ]
    },
    {
      "cell_type": "code",
      "source": [
        "# Confusion Matrix\n",
        "conf_mat = confusion_matrix(Y_test,Y_pred_random)\n",
        "conf_mat"
      ],
      "metadata": {
        "colab": {
          "base_uri": "https://localhost:8080/"
        },
        "id": "q1jdXJ33kXWR",
        "outputId": "970b350f-7fe4-4813-91e5-c5e9213ead5b"
      },
      "id": "q1jdXJ33kXWR",
      "execution_count": 55,
      "outputs": [
        {
          "output_type": "execute_result",
          "data": {
            "text/plain": [
              "array([[ 76,  16],\n",
              "       [  1, 207]])"
            ]
          },
          "metadata": {},
          "execution_count": 55
        }
      ]
    },
    {
      "cell_type": "code",
      "source": [
        "#Printing classification report for KNN claassifier\n",
        "from sklearn import metrics\n",
        "print('Classification Report_Random Forest','\\n',metrics.classification_report(Y_test, Y_pred_random))"
      ],
      "metadata": {
        "colab": {
          "base_uri": "https://localhost:8080/"
        },
        "id": "tVrZ7H3akXaH",
        "outputId": "dd6bb3fd-5d26-40eb-c883-509721560c87"
      },
      "id": "tVrZ7H3akXaH",
      "execution_count": 56,
      "outputs": [
        {
          "output_type": "stream",
          "name": "stdout",
          "text": [
            "Classification Report_Random Forest \n",
            "               precision    recall  f1-score   support\n",
            "\n",
            "           0       0.99      0.83      0.90        92\n",
            "           1       0.93      1.00      0.96       208\n",
            "\n",
            "    accuracy                           0.94       300\n",
            "   macro avg       0.96      0.91      0.93       300\n",
            "weighted avg       0.95      0.94      0.94       300\n",
            "\n"
          ]
        }
      ]
    },
    {
      "cell_type": "code",
      "source": [
        "# Area Under Curve\n",
        "auc = roc_auc_score(Y_test, Y_pred_random)\n",
        "auc"
      ],
      "metadata": {
        "colab": {
          "base_uri": "https://localhost:8080/"
        },
        "id": "omX-invNkXo8",
        "outputId": "bfa0a9a3-4af8-482a-9dad-5f42206c3248"
      },
      "id": "omX-invNkXo8",
      "execution_count": 57,
      "outputs": [
        {
          "output_type": "execute_result",
          "data": {
            "text/plain": [
              "0.9106396321070235"
            ]
          },
          "metadata": {},
          "execution_count": 57
        }
      ]
    },
    {
      "cell_type": "code",
      "source": [
        "fpr, tpr, thresholds = roc_curve(Y_test, Y_pred_random)"
      ],
      "metadata": {
        "id": "oaqz0G6fk0Qd"
      },
      "id": "oaqz0G6fk0Qd",
      "execution_count": 58,
      "outputs": []
    },
    {
      "cell_type": "code",
      "source": [
        "plt.figure(figsize=(5,5))\n",
        "plt.plot(fpr, tpr, color='red', label='ROC')\n",
        "plt.plot([0, 1], [0, 1], color='darkblue', linestyle='--',label='ROC curve (area = %0.2f)' % auc)\n",
        "plt.xlabel('False Positive Rate')\n",
        "plt.ylabel('True Positive Rate')\n",
        "plt.title('Receiver Operating Characteristic (ROC) Curve for Random Forest')\n",
        "plt.legend()\n",
        "plt.show()"
      ],
      "metadata": {
        "colab": {
          "base_uri": "https://localhost:8080/",
          "height": 350
        },
        "id": "B4f8nWqyk0TW",
        "outputId": "67bf15e1-ec9e-47c0-f508-51e0424f0378"
      },
      "id": "B4f8nWqyk0TW",
      "execution_count": 59,
      "outputs": [
        {
          "output_type": "display_data",
          "data": {
            "image/png": "[encoded data removed]",
            "text/plain": [
              "<Figure size 360x360 with 1 Axes>"
            ]
          },
          "metadata": {
            "needs_background": "light"
          }
        }
      ]
    },
    {
      "cell_type": "markdown",
      "id": "e561f592",
      "metadata": {
        "id": "e561f592"
      },
      "source": [
        "# Look at parameters used by Random forest"
      ]
    },
    {
      "cell_type": "code",
      "execution_count": 84,
      "id": "ab46de15",
      "metadata": {
        "colab": {
          "base_uri": "https://localhost:8080/"
        },
        "id": "ab46de15",
        "outputId": "674f1e89-d4b8-4a96-d33f-1569d86bb84d"
      },
      "outputs": [
        {
          "output_type": "stream",
          "name": "stdout",
          "text": [
            "Parameters used in Random forest:\n",
            "\n",
            "{'bootstrap': True, 'ccp_alpha': 0.0, 'class_weight': None, 'criterion': 'gini', 'max_depth': None, 'max_features': 'auto', 'max_leaf_nodes': None, 'max_samples': None, 'min_impurity_decrease': 0.0, 'min_samples_leaf': 1, 'min_samples_split': 2, 'min_weight_fraction_leaf': 0.0, 'n_estimators': 100, 'n_jobs': None, 'oob_score': False, 'random_state': None, 'verbose': 0, 'warm_start': False}\n"
          ]
        }
      ],
      "source": [
        "print('Parameters used in Random forest:\\n')\n",
        "print(random.get_params())"
      ]
    },
    {
      "cell_type": "markdown",
      "id": "328296af",
      "metadata": {
        "id": "328296af"
      },
      "source": [
        "# Using Random Hyperparameter Grid"
      ]
    },
    {
      "cell_type": "code",
      "execution_count": 15,
      "id": "10a514d1",
      "metadata": {
        "id": "10a514d1"
      },
      "outputs": [],
      "source": [
        "from sklearn.model_selection import RandomizedSearchCV"
      ]
    },
    {
      "cell_type": "code",
      "execution_count": 16,
      "id": "ab4e18ec",
      "metadata": {
        "id": "ab4e18ec"
      },
      "outputs": [],
      "source": [
        "# Number of trees in random forest\n",
        "n_estimators = [int(x) for x in np.linspace(start = 200, stop = 400, num = 25)]\n",
        "# Number of features to consider at every split\n",
        "max_features = ['auto', 'sqrt']\n",
        "# Maximum number of levels in tree\n",
        "max_depth = [int(x) for x in np.linspace(10,50, num = 10)]\n",
        "max_depth.append(None)\n",
        "# Minimum number of samples required to split a node\n",
        "min_samples_split = [2, 5, 10]\n",
        "# Minimum number of samples required at each leaf node\n",
        "min_samples_leaf = [1, 2, 4]\n",
        "# Method of selecting samples for training each tree\n",
        "bootstrap = [True, False]"
      ]
    },
    {
      "cell_type": "code",
      "execution_count": 17,
      "id": "8351c90d",
      "metadata": {
        "id": "8351c90d"
      },
      "outputs": [],
      "source": [
        "# Create the random grid\n",
        "random_grid = {'n_estimators': n_estimators,\n",
        "               'max_features': max_features,\n",
        "               'max_depth': max_depth,\n",
        "               'min_samples_split': min_samples_split,\n",
        "               'min_samples_leaf': min_samples_leaf,\n",
        "               'bootstrap': bootstrap}"
      ]
    },
    {
      "cell_type": "code",
      "execution_count": 87,
      "id": "0aeb3bdc",
      "metadata": {
        "colab": {
          "base_uri": "https://localhost:8080/"
        },
        "id": "0aeb3bdc",
        "outputId": "a31dd5f5-4591-454e-b127-3cb2cd9c470b"
      },
      "outputs": [
        {
          "output_type": "stream",
          "name": "stdout",
          "text": [
            "{'n_estimators': [200, 208, 216, 225, 233, 241, 250, 258, 266, 275, 283, 291, 300, 308, 316, 325, 333, 341, 350, 358, 366, 375, 383, 391, 400], 'max_features': ['auto', 'sqrt'], 'max_depth': [10, 14, 18, 23, 27, 32, 36, 41, 45, 50, None], 'min_samples_split': [2, 5, 10]}\n"
          ]
        }
      ],
      "source": [
        "print(random_grid)"
      ]
    },
    {
      "cell_type": "code",
      "execution_count": 19,
      "id": "2df71a64",
      "metadata": {
        "id": "2df71a64"
      },
      "outputs": [],
      "source": [
        "rf_random = RandomizedSearchCV(estimator = random, \n",
        "                               param_distributions = random_grid,\n",
        "                               n_iter = 100, cv = 3,\n",
        "                               verbose=2, random_state=42,\n",
        "                               n_jobs = -1)"
      ]
    },
    {
      "cell_type": "code",
      "execution_count": 21,
      "id": "62b2c2cc",
      "metadata": {
        "colab": {
          "base_uri": "https://localhost:8080/"
        },
        "id": "62b2c2cc",
        "outputId": "efcbedb4-3613-4239-9b9a-55127fb402d2"
      },
      "outputs": [
        {
          "output_type": "stream",
          "name": "stdout",
          "text": [
            "Fitting 3 folds for each of 100 candidates, totalling 300 fits\n"
          ]
        },
        {
          "output_type": "execute_result",
          "data": {
            "text/plain": [
              "RandomizedSearchCV(cv=3, estimator=RandomForestClassifier(), n_iter=100,\n",
              "                   n_jobs=-1,\n",
              "                   param_distributions={'bootstrap': [True, False],\n",
              "                                        'max_depth': [10, 14, 18, 23, 27, 32,\n",
              "                                                      36, 41, 45, 50, None],\n",
              "                                        'max_features': ['auto', 'sqrt'],\n",
              "                                        'min_samples_leaf': [1, 2, 4],\n",
              "                                        'min_samples_split': [2, 5, 10],\n",
              "                                        'n_estimators': [200, 208, 216, 225,\n",
              "                                                         233, 241, 250, 258,\n",
              "                                                         266, 275, 283, 291,\n",
              "                                                         300, 308, 316, 325,\n",
              "                                                         333, 341, 350, 358,\n",
              "                                                         366, 375, 383, 391,\n",
              "                                                         400]},\n",
              "                   random_state=42, verbose=2)"
            ]
          },
          "metadata": {},
          "execution_count": 21
        }
      ],
      "source": [
        "rf_random.fit(X_train,Y_train)"
      ]
    },
    {
      "cell_type": "code",
      "source": [
        "rf_random.best_params_"
      ],
      "metadata": {
        "colab": {
          "base_uri": "https://localhost:8080/"
        },
        "id": "ZP5QBa6NxTB-",
        "outputId": "186cce55-a2d3-488e-e287-85b1c61bc53c"
      },
      "id": "ZP5QBa6NxTB-",
      "execution_count": 91,
      "outputs": [
        {
          "output_type": "execute_result",
          "data": {
            "text/plain": [
              "{'n_estimators': 283, 'min_samples_split': 5, 'min_samples_leaf': 2, 'max_features': 'auto', 'max_depth': 18, 'bootstrap': False}"
            ]
          },
          "metadata": {},
          "execution_count": 91
        }
      ]
    },
    {
      "cell_type": "code",
      "source": [
        "RFtuned = RandomForestClassifier(n_estimators = 283,\n",
        "                                min_samples_split = 5,\n",
        "                                min_samples_leaf= 2, \n",
        "                                max_features = 'auto',\n",
        "                                max_depth= 18, \n",
        "                                bootstrap=False) \n",
        "RFtuned.fit( X_train, Y_train) "
      ],
      "metadata": {
        "colab": {
          "base_uri": "https://localhost:8080/"
        },
        "id": "W3W4Aixw0pHD",
        "outputId": "3c21f97d-7d6a-487a-de5d-1feefe88c6f5"
      },
      "id": "W3W4Aixw0pHD",
      "execution_count": 99,
      "outputs": [
        {
          "output_type": "execute_result",
          "data": {
            "text/plain": [
              "RandomForestClassifier(bootstrap=False, max_depth=18, min_samples_leaf=2,\n",
              "                       min_samples_split=5, n_estimators=283)"
            ]
          },
          "metadata": {},
          "execution_count": 99
        }
      ]
    },
    {
      "cell_type": "code",
      "source": [
        "RFtuned.score(X_test,Y_test)"
      ],
      "metadata": {
        "colab": {
          "base_uri": "https://localhost:8080/"
        },
        "id": "TyRPVUVU1LW8",
        "outputId": "32121aa7-e4ce-4ba9-fb8c-fcd29f572bf1"
      },
      "id": "TyRPVUVU1LW8",
      "execution_count": 100,
      "outputs": [
        {
          "output_type": "execute_result",
          "data": {
            "text/plain": [
              "0.9433333333333334"
            ]
          },
          "metadata": {},
          "execution_count": 100
        }
      ]
    },
    {
      "cell_type": "code",
      "source": [
        "Y_pred_RFtuned = RFtuned.predict(X_test)"
      ],
      "metadata": {
        "id": "EJTc9ZL5xvWU"
      },
      "id": "EJTc9ZL5xvWU",
      "execution_count": 101,
      "outputs": []
    },
    {
      "cell_type": "code",
      "source": [
        "print(accuracy_score(Y_test,Y_pred_RFtuned))"
      ],
      "metadata": {
        "colab": {
          "base_uri": "https://localhost:8080/"
        },
        "id": "p_G3ptcy1mzg",
        "outputId": "3b1fd6d0-173c-46e3-89d6-5ea23f4da040"
      },
      "id": "p_G3ptcy1mzg",
      "execution_count": 102,
      "outputs": [
        {
          "output_type": "stream",
          "name": "stdout",
          "text": [
            "0.9433333333333334\n"
          ]
        }
      ]
    },
    {
      "cell_type": "code",
      "source": [
        "# Confusion Matrix\n",
        "conf_mat = confusion_matrix(Y_test,Y_pred_RFtuned)\n",
        "conf_mat"
      ],
      "metadata": {
        "colab": {
          "base_uri": "https://localhost:8080/"
        },
        "id": "yCYtHA6H1m2n",
        "outputId": "893141d5-5c56-4d9a-c41c-bd753e10f4c1"
      },
      "id": "yCYtHA6H1m2n",
      "execution_count": 103,
      "outputs": [
        {
          "output_type": "execute_result",
          "data": {
            "text/plain": [
              "array([[ 76,  16],\n",
              "       [  1, 207]])"
            ]
          },
          "metadata": {},
          "execution_count": 103
        }
      ]
    },
    {
      "cell_type": "code",
      "source": [
        "#Printing classification report for KNN claassifier\n",
        "from sklearn import metrics\n",
        "print('Classification Report_Random Forest_Hyper_parameter_tuned','\\n',metrics.classification_report(Y_test, Y_pred_RFtuned))"
      ],
      "metadata": {
        "colab": {
          "base_uri": "https://localhost:8080/"
        },
        "id": "jBM3tqZR14_F",
        "outputId": "0f0a8b33-8350-4023-adbc-e96fb5580e7f"
      },
      "id": "jBM3tqZR14_F",
      "execution_count": 104,
      "outputs": [
        {
          "output_type": "stream",
          "name": "stdout",
          "text": [
            "Classification Report_Random Forest_Hyper_parameter_tuned \n",
            "               precision    recall  f1-score   support\n",
            "\n",
            "           0       0.99      0.83      0.90        92\n",
            "           1       0.93      1.00      0.96       208\n",
            "\n",
            "    accuracy                           0.94       300\n",
            "   macro avg       0.96      0.91      0.93       300\n",
            "weighted avg       0.95      0.94      0.94       300\n",
            "\n"
          ]
        }
      ]
    },
    {
      "cell_type": "code",
      "source": [
        "# Area Under Curve\n",
        "auc = roc_auc_score(Y_test, Y_pred_RFtuned)\n",
        "auc"
      ],
      "metadata": {
        "colab": {
          "base_uri": "https://localhost:8080/"
        },
        "id": "uWY21rE228aX",
        "outputId": "c8135727-09c3-4e7f-ec69-b059e35e9dd7"
      },
      "id": "uWY21rE228aX",
      "execution_count": 109,
      "outputs": [
        {
          "output_type": "execute_result",
          "data": {
            "text/plain": [
              "0.9106396321070235"
            ]
          },
          "metadata": {},
          "execution_count": 109
        }
      ]
    },
    {
      "cell_type": "code",
      "source": [
        "fpr, tpr, thresholds = roc_curve(Y_test, Y_pred_RFtuned)"
      ],
      "metadata": {
        "id": "fQi1L8dW15BR"
      },
      "id": "fQi1L8dW15BR",
      "execution_count": 110,
      "outputs": []
    },
    {
      "cell_type": "code",
      "source": [
        "plt.figure(figsize=(5,5))\n",
        "plt.plot(fpr, tpr, color='red', label='ROC')\n",
        "plt.plot([0, 1], [0, 1], color='darkblue', linestyle='--',label='ROC curve (area = %0.2f)' % auc)\n",
        "plt.xlabel('False Positive Rate')\n",
        "plt.ylabel('True Positive Rate')\n",
        "plt.title('Receiver Operating Characteristic (ROC) Curve for Random Forest Hyper Parameter Tuned')\n",
        "plt.legend()\n",
        "plt.show()"
      ],
      "metadata": {
        "colab": {
          "base_uri": "https://localhost:8080/",
          "height": 350
        },
        "id": "tbN5WaX-15Ej",
        "outputId": "082ce0f1-11ee-43ec-8360-56203426df29"
      },
      "id": "tbN5WaX-15Ej",
      "execution_count": 111,
      "outputs": [
        {
          "output_type": "display_data",
          "data": {
            "image/png": "[encoded data removed]",
            "text/plain": [
              "<Figure size 360x360 with 1 Axes>"
            ]
          },
          "metadata": {
            "needs_background": "light"
          }
        }
      ]
    },
    {
      "cell_type": "markdown",
      "source": [
        "# Conclusion about Model Selection"
      ],
      "metadata": {
        "id": "JQpf5RFh7qpJ"
      },
      "id": "JQpf5RFh7qpJ"
    },
    {
      "cell_type": "markdown",
      "source": [
        "Here, created Five models, they are Logistic regression, Naïve Bayes, SVM, KNN and Random Forest.\n",
        "\n",
        "Compare the Accuracy, F1-Score and AUC of all models. \n",
        "The algorithm having a better Accuracy, F1-Score and AUC shall be considered for create model.\n"
      ],
      "metadata": {
        "id": "kMVtZ3Gi51yb"
      },
      "id": "kMVtZ3Gi51yb"
    },
    {
      "cell_type": "markdown",
      "source": [
        "Here we find the best model as **Random Forest** model with \n",
        "\n",
        "# Accuracy=**94.3%**\n",
        "\n",
        "# F1-Score=**0.90** for 0 and **0.96** for  1\n",
        "\n",
        "# AUC=**0.91**"
      ],
      "metadata": {
        "id": "LgzfAUlr68gA"
      },
      "id": "LgzfAUlr68gA"
    },
    {
      "cell_type": "markdown",
      "id": "c35d5dea",
      "metadata": {
        "id": "c35d5dea"
      },
      "source": [
        "# save the model to disk\n"
      ]
    },
    {
      "cell_type": "code",
      "execution_count": 112,
      "id": "1add1efb",
      "metadata": {
        "id": "1add1efb"
      },
      "outputs": [],
      "source": [
        "filename = 'finalized_model.sav'\n",
        "pickle.dump(rf_random, open(filename, 'wb'))"
      ]
    }
  ],
  "metadata": {
    "kernelspec": {
      "display_name": "Python 3",
      "language": "python",
      "name": "python3"
    },
    "language_info": {
      "codemirror_mode": {
        "name": "ipython",
        "version": 3
      },
      "file_extension": ".py",
      "mimetype": "text/x-python",
      "name": "python",
      "nbconvert_exporter": "python",
      "pygments_lexer": "ipython3",
      "version": "3.8.8"
    },
    "colab": {
      "name": "Model selection.ipynb",
      "provenance": []
    },
    "accelerator": "GPU"
  },
  "nbformat": 4,
  "nbformat_minor": 5
}